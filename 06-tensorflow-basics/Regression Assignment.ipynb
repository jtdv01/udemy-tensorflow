{
 "cells": [
  {
   "cell_type": "code",
   "execution_count": 9,
   "metadata": {
    "collapsed": true
   },
   "outputs": [],
   "source": [
    "import tensorflow as tf\n",
    "import pandas as pd\n",
    "import matplotlib.pyplot as plt\n",
    "from pandas.tools.plotting import scatter_matrix"
   ]
  },
  {
   "cell_type": "code",
   "execution_count": 4,
   "metadata": {
    "collapsed": true
   },
   "outputs": [],
   "source": [
    "df = pd.read_csv(\"data/cal_housing_clean.csv\")"
   ]
  },
  {
   "cell_type": "code",
   "execution_count": 5,
   "metadata": {},
   "outputs": [
    {
     "data": {
      "text/html": [
       "<div>\n",
       "<style>\n",
       "    .dataframe thead tr:only-child th {\n",
       "        text-align: right;\n",
       "    }\n",
       "\n",
       "    .dataframe thead th {\n",
       "        text-align: left;\n",
       "    }\n",
       "\n",
       "    .dataframe tbody tr th {\n",
       "        vertical-align: top;\n",
       "    }\n",
       "</style>\n",
       "<table border=\"1\" class=\"dataframe\">\n",
       "  <thead>\n",
       "    <tr style=\"text-align: right;\">\n",
       "      <th></th>\n",
       "      <th>housingMedianAge</th>\n",
       "      <th>totalRooms</th>\n",
       "      <th>totalBedrooms</th>\n",
       "      <th>population</th>\n",
       "      <th>households</th>\n",
       "      <th>medianIncome</th>\n",
       "      <th>medianHouseValue</th>\n",
       "    </tr>\n",
       "  </thead>\n",
       "  <tbody>\n",
       "    <tr>\n",
       "      <th>0</th>\n",
       "      <td>41.0</td>\n",
       "      <td>880.0</td>\n",
       "      <td>129.0</td>\n",
       "      <td>322.0</td>\n",
       "      <td>126.0</td>\n",
       "      <td>8.3252</td>\n",
       "      <td>452600.0</td>\n",
       "    </tr>\n",
       "    <tr>\n",
       "      <th>1</th>\n",
       "      <td>21.0</td>\n",
       "      <td>7099.0</td>\n",
       "      <td>1106.0</td>\n",
       "      <td>2401.0</td>\n",
       "      <td>1138.0</td>\n",
       "      <td>8.3014</td>\n",
       "      <td>358500.0</td>\n",
       "    </tr>\n",
       "    <tr>\n",
       "      <th>2</th>\n",
       "      <td>52.0</td>\n",
       "      <td>1467.0</td>\n",
       "      <td>190.0</td>\n",
       "      <td>496.0</td>\n",
       "      <td>177.0</td>\n",
       "      <td>7.2574</td>\n",
       "      <td>352100.0</td>\n",
       "    </tr>\n",
       "    <tr>\n",
       "      <th>3</th>\n",
       "      <td>52.0</td>\n",
       "      <td>1274.0</td>\n",
       "      <td>235.0</td>\n",
       "      <td>558.0</td>\n",
       "      <td>219.0</td>\n",
       "      <td>5.6431</td>\n",
       "      <td>341300.0</td>\n",
       "    </tr>\n",
       "    <tr>\n",
       "      <th>4</th>\n",
       "      <td>52.0</td>\n",
       "      <td>1627.0</td>\n",
       "      <td>280.0</td>\n",
       "      <td>565.0</td>\n",
       "      <td>259.0</td>\n",
       "      <td>3.8462</td>\n",
       "      <td>342200.0</td>\n",
       "    </tr>\n",
       "  </tbody>\n",
       "</table>\n",
       "</div>"
      ],
      "text/plain": [
       "   housingMedianAge  totalRooms  totalBedrooms  population  households  \\\n",
       "0              41.0       880.0          129.0       322.0       126.0   \n",
       "1              21.0      7099.0         1106.0      2401.0      1138.0   \n",
       "2              52.0      1467.0          190.0       496.0       177.0   \n",
       "3              52.0      1274.0          235.0       558.0       219.0   \n",
       "4              52.0      1627.0          280.0       565.0       259.0   \n",
       "\n",
       "   medianIncome  medianHouseValue  \n",
       "0        8.3252          452600.0  \n",
       "1        8.3014          358500.0  \n",
       "2        7.2574          352100.0  \n",
       "3        5.6431          341300.0  \n",
       "4        3.8462          342200.0  "
      ]
     },
     "execution_count": 5,
     "metadata": {},
     "output_type": "execute_result"
    }
   ],
   "source": [
    "df.head()"
   ]
  },
  {
   "cell_type": "code",
   "execution_count": 6,
   "metadata": {},
   "outputs": [
    {
     "data": {
      "text/html": [
       "<div>\n",
       "<style>\n",
       "    .dataframe thead tr:only-child th {\n",
       "        text-align: right;\n",
       "    }\n",
       "\n",
       "    .dataframe thead th {\n",
       "        text-align: left;\n",
       "    }\n",
       "\n",
       "    .dataframe tbody tr th {\n",
       "        vertical-align: top;\n",
       "    }\n",
       "</style>\n",
       "<table border=\"1\" class=\"dataframe\">\n",
       "  <thead>\n",
       "    <tr style=\"text-align: right;\">\n",
       "      <th></th>\n",
       "      <th>housingMedianAge</th>\n",
       "      <th>totalRooms</th>\n",
       "      <th>totalBedrooms</th>\n",
       "      <th>population</th>\n",
       "      <th>households</th>\n",
       "      <th>medianIncome</th>\n",
       "      <th>medianHouseValue</th>\n",
       "    </tr>\n",
       "  </thead>\n",
       "  <tbody>\n",
       "    <tr>\n",
       "      <th>count</th>\n",
       "      <td>20640.000000</td>\n",
       "      <td>20640.000000</td>\n",
       "      <td>20640.000000</td>\n",
       "      <td>20640.000000</td>\n",
       "      <td>20640.000000</td>\n",
       "      <td>20640.000000</td>\n",
       "      <td>20640.000000</td>\n",
       "    </tr>\n",
       "    <tr>\n",
       "      <th>mean</th>\n",
       "      <td>28.639486</td>\n",
       "      <td>2635.763081</td>\n",
       "      <td>537.898014</td>\n",
       "      <td>1425.476744</td>\n",
       "      <td>499.539680</td>\n",
       "      <td>3.870671</td>\n",
       "      <td>206855.816909</td>\n",
       "    </tr>\n",
       "    <tr>\n",
       "      <th>std</th>\n",
       "      <td>12.585558</td>\n",
       "      <td>2181.615252</td>\n",
       "      <td>421.247906</td>\n",
       "      <td>1132.462122</td>\n",
       "      <td>382.329753</td>\n",
       "      <td>1.899822</td>\n",
       "      <td>115395.615874</td>\n",
       "    </tr>\n",
       "    <tr>\n",
       "      <th>min</th>\n",
       "      <td>1.000000</td>\n",
       "      <td>2.000000</td>\n",
       "      <td>1.000000</td>\n",
       "      <td>3.000000</td>\n",
       "      <td>1.000000</td>\n",
       "      <td>0.499900</td>\n",
       "      <td>14999.000000</td>\n",
       "    </tr>\n",
       "    <tr>\n",
       "      <th>25%</th>\n",
       "      <td>18.000000</td>\n",
       "      <td>1447.750000</td>\n",
       "      <td>295.000000</td>\n",
       "      <td>787.000000</td>\n",
       "      <td>280.000000</td>\n",
       "      <td>2.563400</td>\n",
       "      <td>119600.000000</td>\n",
       "    </tr>\n",
       "    <tr>\n",
       "      <th>50%</th>\n",
       "      <td>29.000000</td>\n",
       "      <td>2127.000000</td>\n",
       "      <td>435.000000</td>\n",
       "      <td>1166.000000</td>\n",
       "      <td>409.000000</td>\n",
       "      <td>3.534800</td>\n",
       "      <td>179700.000000</td>\n",
       "    </tr>\n",
       "    <tr>\n",
       "      <th>75%</th>\n",
       "      <td>37.000000</td>\n",
       "      <td>3148.000000</td>\n",
       "      <td>647.000000</td>\n",
       "      <td>1725.000000</td>\n",
       "      <td>605.000000</td>\n",
       "      <td>4.743250</td>\n",
       "      <td>264725.000000</td>\n",
       "    </tr>\n",
       "    <tr>\n",
       "      <th>max</th>\n",
       "      <td>52.000000</td>\n",
       "      <td>39320.000000</td>\n",
       "      <td>6445.000000</td>\n",
       "      <td>35682.000000</td>\n",
       "      <td>6082.000000</td>\n",
       "      <td>15.000100</td>\n",
       "      <td>500001.000000</td>\n",
       "    </tr>\n",
       "  </tbody>\n",
       "</table>\n",
       "</div>"
      ],
      "text/plain": [
       "       housingMedianAge    totalRooms  totalBedrooms    population  \\\n",
       "count      20640.000000  20640.000000   20640.000000  20640.000000   \n",
       "mean          28.639486   2635.763081     537.898014   1425.476744   \n",
       "std           12.585558   2181.615252     421.247906   1132.462122   \n",
       "min            1.000000      2.000000       1.000000      3.000000   \n",
       "25%           18.000000   1447.750000     295.000000    787.000000   \n",
       "50%           29.000000   2127.000000     435.000000   1166.000000   \n",
       "75%           37.000000   3148.000000     647.000000   1725.000000   \n",
       "max           52.000000  39320.000000    6445.000000  35682.000000   \n",
       "\n",
       "         households  medianIncome  medianHouseValue  \n",
       "count  20640.000000  20640.000000      20640.000000  \n",
       "mean     499.539680      3.870671     206855.816909  \n",
       "std      382.329753      1.899822     115395.615874  \n",
       "min        1.000000      0.499900      14999.000000  \n",
       "25%      280.000000      2.563400     119600.000000  \n",
       "50%      409.000000      3.534800     179700.000000  \n",
       "75%      605.000000      4.743250     264725.000000  \n",
       "max     6082.000000     15.000100     500001.000000  "
      ]
     },
     "execution_count": 6,
     "metadata": {},
     "output_type": "execute_result"
    }
   ],
   "source": [
    "df.describe()"
   ]
  },
  {
   "cell_type": "code",
   "execution_count": 25,
   "metadata": {
    "collapsed": true
   },
   "outputs": [],
   "source": []
  },
  {
   "cell_type": "code",
   "execution_count": 12,
   "metadata": {},
   "outputs": [
    {
     "name": "stderr",
     "output_type": "stream",
     "text": [
      "/Users/jet/anaconda/envs/tf/lib/python3.6/site-packages/ipykernel_launcher.py:3: FutureWarning: 'pandas.tools.plotting.scatter_matrix' is deprecated, import 'pandas.plotting.scatter_matrix' instead.\n",
      "  This is separate from the ipykernel package so we can avoid doing imports until\n"
     ]
    },
    {
     "data": {
      "image/png": "[encoded data removed]",
      "text/plain": [
       "<matplotlib.figure.Figure at 0x12646a978>"
      ]
     },
     "metadata": {},
     "output_type": "display_data"
    }
   ],
   "source": [
    "scatter_matrix(df)\n",
    "plt.show()"
   ]
  },
  {
   "cell_type": "code",
   "execution_count": 13,
   "metadata": {
    "collapsed": true
   },
   "outputs": [],
   "source": [
    "from sklearn.preprocessing import MinMaxScaler"
   ]
  },
  {
   "cell_type": "code",
   "execution_count": 17,
   "metadata": {
    "collapsed": true
   },
   "outputs": [],
   "source": [
    "scaler = MinMaxScaler().fit(df)"
   ]
  },
  {
   "cell_type": "code",
   "execution_count": 20,
   "metadata": {
    "collapsed": true
   },
   "outputs": [],
   "source": [
    "df_scaled = pd.DataFrame(scaler.transform(df), columns=df.columns)"
   ]
  },
  {
   "cell_type": "code",
   "execution_count": 21,
   "metadata": {},
   "outputs": [
    {
     "data": {
      "text/html": [
       "<div>\n",
       "<style>\n",
       "    .dataframe thead tr:only-child th {\n",
       "        text-align: right;\n",
       "    }\n",
       "\n",
       "    .dataframe thead th {\n",
       "        text-align: left;\n",
       "    }\n",
       "\n",
       "    .dataframe tbody tr th {\n",
       "        vertical-align: top;\n",
       "    }\n",
       "</style>\n",
       "<table border=\"1\" class=\"dataframe\">\n",
       "  <thead>\n",
       "    <tr style=\"text-align: right;\">\n",
       "      <th></th>\n",
       "      <th>housingMedianAge</th>\n",
       "      <th>totalRooms</th>\n",
       "      <th>totalBedrooms</th>\n",
       "      <th>population</th>\n",
       "      <th>households</th>\n",
       "      <th>medianIncome</th>\n",
       "      <th>medianHouseValue</th>\n",
       "    </tr>\n",
       "  </thead>\n",
       "  <tbody>\n",
       "    <tr>\n",
       "      <th>0</th>\n",
       "      <td>0.784314</td>\n",
       "      <td>0.022331</td>\n",
       "      <td>0.019863</td>\n",
       "      <td>0.008941</td>\n",
       "      <td>0.020556</td>\n",
       "      <td>0.539668</td>\n",
       "      <td>0.902266</td>\n",
       "    </tr>\n",
       "    <tr>\n",
       "      <th>1</th>\n",
       "      <td>0.392157</td>\n",
       "      <td>0.180503</td>\n",
       "      <td>0.171477</td>\n",
       "      <td>0.067210</td>\n",
       "      <td>0.186976</td>\n",
       "      <td>0.538027</td>\n",
       "      <td>0.708247</td>\n",
       "    </tr>\n",
       "    <tr>\n",
       "      <th>2</th>\n",
       "      <td>1.000000</td>\n",
       "      <td>0.037260</td>\n",
       "      <td>0.029330</td>\n",
       "      <td>0.013818</td>\n",
       "      <td>0.028943</td>\n",
       "      <td>0.466028</td>\n",
       "      <td>0.695051</td>\n",
       "    </tr>\n",
       "    <tr>\n",
       "      <th>3</th>\n",
       "      <td>1.000000</td>\n",
       "      <td>0.032352</td>\n",
       "      <td>0.036313</td>\n",
       "      <td>0.015555</td>\n",
       "      <td>0.035849</td>\n",
       "      <td>0.354699</td>\n",
       "      <td>0.672783</td>\n",
       "    </tr>\n",
       "    <tr>\n",
       "      <th>4</th>\n",
       "      <td>1.000000</td>\n",
       "      <td>0.041330</td>\n",
       "      <td>0.043296</td>\n",
       "      <td>0.015752</td>\n",
       "      <td>0.042427</td>\n",
       "      <td>0.230776</td>\n",
       "      <td>0.674638</td>\n",
       "    </tr>\n",
       "  </tbody>\n",
       "</table>\n",
       "</div>"
      ],
      "text/plain": [
       "   housingMedianAge  totalRooms  totalBedrooms  population  households  \\\n",
       "0          0.784314    0.022331       0.019863    0.008941    0.020556   \n",
       "1          0.392157    0.180503       0.171477    0.067210    0.186976   \n",
       "2          1.000000    0.037260       0.029330    0.013818    0.028943   \n",
       "3          1.000000    0.032352       0.036313    0.015555    0.035849   \n",
       "4          1.000000    0.041330       0.043296    0.015752    0.042427   \n",
       "\n",
       "   medianIncome  medianHouseValue  \n",
       "0      0.539668          0.902266  \n",
       "1      0.538027          0.708247  \n",
       "2      0.466028          0.695051  \n",
       "3      0.354699          0.672783  \n",
       "4      0.230776          0.674638  "
      ]
     },
     "execution_count": 21,
     "metadata": {},
     "output_type": "execute_result"
    }
   ],
   "source": [
    "df_scaled.head()"
   ]
  },
  {
   "cell_type": "code",
   "execution_count": 24,
   "metadata": {},
   "outputs": [
    {
     "name": "stderr",
     "output_type": "stream",
     "text": [
      "/Users/jet/anaconda/envs/tf/lib/python3.6/site-packages/ipykernel_launcher.py:1: FutureWarning: 'pandas.tools.plotting.scatter_matrix' is deprecated, import 'pandas.plotting.scatter_matrix' instead.\n",
      "  \"\"\"Entry point for launching an IPython kernel.\n"
     ]
    },
    {
     "data": {
      "image/png": "[encoded data removed]",
      "text/plain": [
       "<matplotlib.figure.Figure at 0x124cf9630>"
      ]
     },
     "metadata": {},
     "output_type": "display_data"
    }
   ],
   "source": [
    "scatter_matrix(df_scaled)\n",
    "plt.show()"
   ]
  },
  {
   "cell_type": "markdown",
   "metadata": {},
   "source": [
    "# Regression"
   ]
  },
  {
   "cell_type": "code",
   "execution_count": 38,
   "metadata": {
    "collapsed": true
   },
   "outputs": [],
   "source": [
    "from sklearn.model_selection import train_test_split\n",
    "\n",
    "x_train, x_test, y_train, y_test = train_test_split(df_scaled[x_cols], df[y_col],train_size=0.7)"
   ]
  },
  {
   "cell_type": "code",
   "execution_count": 46,
   "metadata": {
    "collapsed": true
   },
   "outputs": [],
   "source": [
    "y_col = 'medianHouseValue'\n",
    "x_cols = ['housingMedianAge',  'population', 'totalRooms', 'totalBedrooms','households','medianIncome']\n",
    "\n",
    "feat_cols = []\n",
    "\n",
    "for i in x_cols:\n",
    "    feat_cols.append(tf.feature_column.numeric_column(i))"
   ]
  },
  {
   "cell_type": "code",
   "execution_count": 47,
   "metadata": {},
   "outputs": [
    {
     "name": "stdout",
     "output_type": "stream",
     "text": [
      "INFO:tensorflow:Using default config.\n",
      "WARNING:tensorflow:Using temporary folder as model directory: /var/folders/tx/ftbzjwns6fgg8d6cvfwrz6k40000gn/T/tmp8008miw0\n",
      "INFO:tensorflow:Using config: {'_model_dir': '/var/folders/tx/ftbzjwns6fgg8d6cvfwrz6k40000gn/T/tmp8008miw0', '_tf_random_seed': 1, '_save_summary_steps': 100, '_save_checkpoints_secs': 600, '_save_checkpoints_steps': None, '_session_config': None, '_keep_checkpoint_max': 5, '_keep_checkpoint_every_n_hours': 10000, '_log_step_count_steps': 100}\n"
     ]
    }
   ],
   "source": [
    "estimator = tf.estimator.LinearRegressor(feature_columns=feat_cols)"
   ]
  },
  {
   "cell_type": "code",
   "execution_count": 48,
   "metadata": {
    "collapsed": true
   },
   "outputs": [],
   "source": [
    "# Training\n",
    "input_train = tf.estimator.inputs.pandas_input_fn(x=x_train, y=y_train,batch_size=100,num_epochs=100, shuffle=False)"
   ]
  },
  {
   "cell_type": "code",
   "execution_count": 49,
   "metadata": {},
   "outputs": [
    {
     "name": "stdout",
     "output_type": "stream",
     "text": [
      "INFO:tensorflow:Create CheckpointSaverHook.\n",
      "INFO:tensorflow:Saving checkpoints for 1 into /var/folders/tx/ftbzjwns6fgg8d6cvfwrz6k40000gn/T/tmp8008miw0/model.ckpt.\n",
      "INFO:tensorflow:loss = 5.49695e+12, step = 1\n",
      "INFO:tensorflow:global_step/sec: 478.874\n",
      "INFO:tensorflow:loss = 5.20463e+12, step = 101 (0.210 sec)\n",
      "INFO:tensorflow:global_step/sec: 478.641\n",
      "INFO:tensorflow:loss = 5.34645e+12, step = 201 (0.209 sec)\n",
      "INFO:tensorflow:global_step/sec: 445.845\n",
      "INFO:tensorflow:loss = 5.53465e+12, step = 301 (0.224 sec)\n",
      "INFO:tensorflow:global_step/sec: 479.57\n",
      "INFO:tensorflow:loss = 7.001e+12, step = 401 (0.209 sec)\n",
      "INFO:tensorflow:global_step/sec: 472.407\n",
      "INFO:tensorflow:loss = 5.78342e+12, step = 501 (0.212 sec)\n",
      "INFO:tensorflow:global_step/sec: 458.965\n",
      "INFO:tensorflow:loss = 5.92868e+12, step = 601 (0.218 sec)\n",
      "INFO:tensorflow:global_step/sec: 412.871\n",
      "INFO:tensorflow:loss = 5.72539e+12, step = 701 (0.242 sec)\n",
      "INFO:tensorflow:global_step/sec: 475.276\n",
      "INFO:tensorflow:loss = 5.75095e+12, step = 801 (0.210 sec)\n",
      "INFO:tensorflow:global_step/sec: 477.696\n",
      "INFO:tensorflow:loss = 4.7711e+12, step = 901 (0.209 sec)\n",
      "INFO:tensorflow:global_step/sec: 468.086\n",
      "INFO:tensorflow:loss = 5.12575e+12, step = 1001 (0.214 sec)\n",
      "INFO:tensorflow:global_step/sec: 473.194\n",
      "INFO:tensorflow:loss = 5.55869e+12, step = 1101 (0.211 sec)\n",
      "INFO:tensorflow:global_step/sec: 513.879\n",
      "INFO:tensorflow:loss = 5.32932e+12, step = 1201 (0.195 sec)\n",
      "INFO:tensorflow:global_step/sec: 552.844\n",
      "INFO:tensorflow:loss = 5.87635e+12, step = 1301 (0.181 sec)\n",
      "INFO:tensorflow:global_step/sec: 555.613\n",
      "INFO:tensorflow:loss = 5.41722e+12, step = 1401 (0.180 sec)\n",
      "INFO:tensorflow:global_step/sec: 637.171\n",
      "INFO:tensorflow:loss = 5.25478e+12, step = 1501 (0.158 sec)\n",
      "INFO:tensorflow:global_step/sec: 467.211\n",
      "INFO:tensorflow:loss = 5.53429e+12, step = 1601 (0.212 sec)\n",
      "INFO:tensorflow:global_step/sec: 473.62\n",
      "INFO:tensorflow:loss = 6.25415e+12, step = 1701 (0.211 sec)\n",
      "INFO:tensorflow:global_step/sec: 475.877\n",
      "INFO:tensorflow:loss = 5.99704e+12, step = 1801 (0.210 sec)\n",
      "INFO:tensorflow:global_step/sec: 475.419\n",
      "INFO:tensorflow:loss = 6.50057e+12, step = 1901 (0.210 sec)\n",
      "INFO:tensorflow:global_step/sec: 444.818\n",
      "INFO:tensorflow:loss = 5.76453e+12, step = 2001 (0.226 sec)\n",
      "INFO:tensorflow:global_step/sec: 460.481\n",
      "INFO:tensorflow:loss = 5.64781e+12, step = 2101 (0.216 sec)\n",
      "INFO:tensorflow:global_step/sec: 357.42\n",
      "INFO:tensorflow:loss = 5.14457e+12, step = 2201 (0.280 sec)\n",
      "INFO:tensorflow:global_step/sec: 384.086\n",
      "INFO:tensorflow:loss = 5.28804e+12, step = 2301 (0.260 sec)\n",
      "INFO:tensorflow:global_step/sec: 351.14\n",
      "INFO:tensorflow:loss = 5.93293e+12, step = 2401 (0.285 sec)\n",
      "INFO:tensorflow:global_step/sec: 444.024\n",
      "INFO:tensorflow:loss = 5.48693e+12, step = 2501 (0.226 sec)\n",
      "INFO:tensorflow:global_step/sec: 348.376\n",
      "INFO:tensorflow:loss = 5.50451e+12, step = 2601 (0.287 sec)\n",
      "INFO:tensorflow:global_step/sec: 341.23\n",
      "INFO:tensorflow:loss = 5.34694e+12, step = 2701 (0.293 sec)\n",
      "INFO:tensorflow:global_step/sec: 355.727\n",
      "INFO:tensorflow:loss = 5.52146e+12, step = 2801 (0.281 sec)\n",
      "INFO:tensorflow:global_step/sec: 365.842\n",
      "INFO:tensorflow:loss = 4.97109e+12, step = 2901 (0.273 sec)\n",
      "INFO:tensorflow:global_step/sec: 471.516\n",
      "INFO:tensorflow:loss = 5.7934e+12, step = 3001 (0.212 sec)\n",
      "INFO:tensorflow:global_step/sec: 472.358\n",
      "INFO:tensorflow:loss = 5.5768e+12, step = 3101 (0.212 sec)\n",
      "INFO:tensorflow:global_step/sec: 506.396\n",
      "INFO:tensorflow:loss = 5.7656e+12, step = 3201 (0.198 sec)\n",
      "INFO:tensorflow:global_step/sec: 591.387\n",
      "INFO:tensorflow:loss = 5.65737e+12, step = 3301 (0.170 sec)\n",
      "INFO:tensorflow:global_step/sec: 459.352\n",
      "INFO:tensorflow:loss = 5.63604e+12, step = 3401 (0.217 sec)\n",
      "INFO:tensorflow:global_step/sec: 463.94\n",
      "INFO:tensorflow:loss = 4.73371e+12, step = 3501 (0.216 sec)\n",
      "INFO:tensorflow:global_step/sec: 474.365\n",
      "INFO:tensorflow:loss = 5.20325e+12, step = 3601 (0.211 sec)\n",
      "INFO:tensorflow:global_step/sec: 439.551\n",
      "INFO:tensorflow:loss = 6.13596e+12, step = 3701 (0.227 sec)\n",
      "INFO:tensorflow:global_step/sec: 439.595\n",
      "INFO:tensorflow:loss = 5.90469e+12, step = 3801 (0.228 sec)\n",
      "INFO:tensorflow:global_step/sec: 401.268\n",
      "INFO:tensorflow:loss = 5.04794e+12, step = 3901 (0.249 sec)\n",
      "INFO:tensorflow:global_step/sec: 483.3\n",
      "INFO:tensorflow:loss = 4.85593e+12, step = 4001 (0.207 sec)\n",
      "INFO:tensorflow:global_step/sec: 488.493\n",
      "INFO:tensorflow:loss = 6.23092e+12, step = 4101 (0.205 sec)\n",
      "INFO:tensorflow:global_step/sec: 475.267\n",
      "INFO:tensorflow:loss = 5.45832e+12, step = 4201 (0.210 sec)\n",
      "INFO:tensorflow:global_step/sec: 548.388\n",
      "INFO:tensorflow:loss = 5.82647e+12, step = 4301 (0.183 sec)\n",
      "INFO:tensorflow:global_step/sec: 405.37\n",
      "INFO:tensorflow:loss = 4.65914e+12, step = 4401 (0.246 sec)\n",
      "INFO:tensorflow:global_step/sec: 353.598\n",
      "INFO:tensorflow:loss = 4.82502e+12, step = 4501 (0.283 sec)\n",
      "INFO:tensorflow:global_step/sec: 415.394\n",
      "INFO:tensorflow:loss = 5.41053e+12, step = 4601 (0.241 sec)\n",
      "INFO:tensorflow:global_step/sec: 373.48\n",
      "INFO:tensorflow:loss = 5.51382e+12, step = 4701 (0.268 sec)\n",
      "INFO:tensorflow:global_step/sec: 426.299\n",
      "INFO:tensorflow:loss = 4.83222e+12, step = 4801 (0.235 sec)\n",
      "INFO:tensorflow:global_step/sec: 407.181\n",
      "INFO:tensorflow:loss = 4.81855e+12, step = 4901 (0.245 sec)\n",
      "INFO:tensorflow:global_step/sec: 481.454\n",
      "INFO:tensorflow:loss = 5.83218e+12, step = 5001 (0.209 sec)\n",
      "INFO:tensorflow:global_step/sec: 465.279\n",
      "INFO:tensorflow:loss = 6.52928e+12, step = 5101 (0.214 sec)\n",
      "INFO:tensorflow:global_step/sec: 451.724\n",
      "INFO:tensorflow:loss = 5.55019e+12, step = 5201 (0.221 sec)\n",
      "INFO:tensorflow:global_step/sec: 467.558\n",
      "INFO:tensorflow:loss = 4.94338e+12, step = 5301 (0.214 sec)\n",
      "INFO:tensorflow:global_step/sec: 467.606\n",
      "INFO:tensorflow:loss = 5.82032e+12, step = 5401 (0.214 sec)\n",
      "INFO:tensorflow:global_step/sec: 467.485\n",
      "INFO:tensorflow:loss = 6.21807e+12, step = 5501 (0.214 sec)\n",
      "INFO:tensorflow:global_step/sec: 495.444\n",
      "INFO:tensorflow:loss = 5.27974e+12, step = 5601 (0.202 sec)\n",
      "INFO:tensorflow:global_step/sec: 469.056\n",
      "INFO:tensorflow:loss = 5.09155e+12, step = 5701 (0.213 sec)\n",
      "INFO:tensorflow:global_step/sec: 493.844\n",
      "INFO:tensorflow:loss = 5.00878e+12, step = 5801 (0.202 sec)\n",
      "INFO:tensorflow:global_step/sec: 444.193\n",
      "INFO:tensorflow:loss = 5.55052e+12, step = 5901 (0.226 sec)\n",
      "INFO:tensorflow:global_step/sec: 488.299\n",
      "INFO:tensorflow:loss = 5.84933e+12, step = 6001 (0.204 sec)\n",
      "INFO:tensorflow:global_step/sec: 491.649\n",
      "INFO:tensorflow:loss = 4.74113e+12, step = 6101 (0.203 sec)\n",
      "INFO:tensorflow:global_step/sec: 486.613\n",
      "INFO:tensorflow:loss = 5.17707e+12, step = 6201 (0.206 sec)\n",
      "INFO:tensorflow:global_step/sec: 482.88\n",
      "INFO:tensorflow:loss = 5.84366e+12, step = 6301 (0.207 sec)\n",
      "INFO:tensorflow:global_step/sec: 469.19\n",
      "INFO:tensorflow:loss = 5.73443e+12, step = 6401 (0.213 sec)\n",
      "INFO:tensorflow:global_step/sec: 494.406\n",
      "INFO:tensorflow:loss = 5.34693e+12, step = 6501 (0.202 sec)\n",
      "INFO:tensorflow:global_step/sec: 466.036\n",
      "INFO:tensorflow:loss = 4.55521e+12, step = 6601 (0.215 sec)\n",
      "INFO:tensorflow:global_step/sec: 484.113\n",
      "INFO:tensorflow:loss = 6.05793e+12, step = 6701 (0.206 sec)\n",
      "INFO:tensorflow:global_step/sec: 465.491\n",
      "INFO:tensorflow:loss = 6.8291e+12, step = 6801 (0.215 sec)\n",
      "INFO:tensorflow:global_step/sec: 467.375\n",
      "INFO:tensorflow:loss = 5.63246e+12, step = 6901 (0.214 sec)\n",
      "INFO:tensorflow:global_step/sec: 493.513\n",
      "INFO:tensorflow:loss = 4.3562e+12, step = 7001 (0.203 sec)\n",
      "INFO:tensorflow:global_step/sec: 491.447\n",
      "INFO:tensorflow:loss = 5.45595e+12, step = 7101 (0.206 sec)\n",
      "INFO:tensorflow:global_step/sec: 403.652\n",
      "INFO:tensorflow:loss = 4.25614e+12, step = 7201 (0.246 sec)\n",
      "INFO:tensorflow:global_step/sec: 431.505\n",
      "INFO:tensorflow:loss = 5.46377e+12, step = 7301 (0.232 sec)\n",
      "INFO:tensorflow:global_step/sec: 428.187\n",
      "INFO:tensorflow:loss = 5.29753e+12, step = 7401 (0.234 sec)\n",
      "INFO:tensorflow:global_step/sec: 468.182\n",
      "INFO:tensorflow:loss = 5.52725e+12, step = 7501 (0.214 sec)\n",
      "INFO:tensorflow:global_step/sec: 436.009\n",
      "INFO:tensorflow:loss = 6.41753e+12, step = 7601 (0.229 sec)\n",
      "INFO:tensorflow:global_step/sec: 445.413\n",
      "INFO:tensorflow:loss = 6.33551e+12, step = 7701 (0.225 sec)\n",
      "INFO:tensorflow:global_step/sec: 383.016\n",
      "INFO:tensorflow:loss = 5.15721e+12, step = 7801 (0.261 sec)\n",
      "INFO:tensorflow:global_step/sec: 466.107\n",
      "INFO:tensorflow:loss = 5.07607e+12, step = 7901 (0.215 sec)\n",
      "INFO:tensorflow:global_step/sec: 456.136\n"
     ]
    },
    {
     "name": "stdout",
     "output_type": "stream",
     "text": [
      "INFO:tensorflow:loss = 5.93175e+12, step = 8001 (0.219 sec)\n",
      "INFO:tensorflow:global_step/sec: 400.306\n",
      "INFO:tensorflow:loss = 6.81722e+12, step = 8101 (0.250 sec)\n",
      "INFO:tensorflow:global_step/sec: 499.73\n",
      "INFO:tensorflow:loss = 5.99468e+12, step = 8201 (0.199 sec)\n",
      "INFO:tensorflow:global_step/sec: 478.03\n",
      "INFO:tensorflow:loss = 4.78741e+12, step = 8301 (0.209 sec)\n",
      "INFO:tensorflow:global_step/sec: 492.02\n",
      "INFO:tensorflow:loss = 5.69303e+12, step = 8401 (0.203 sec)\n",
      "INFO:tensorflow:global_step/sec: 461.06\n",
      "INFO:tensorflow:loss = 4.66123e+12, step = 8501 (0.217 sec)\n",
      "INFO:tensorflow:global_step/sec: 440.941\n",
      "INFO:tensorflow:loss = 5.94151e+12, step = 8601 (0.227 sec)\n",
      "INFO:tensorflow:global_step/sec: 496.071\n",
      "INFO:tensorflow:loss = 5.52477e+12, step = 8701 (0.202 sec)\n",
      "INFO:tensorflow:global_step/sec: 465.29\n",
      "INFO:tensorflow:loss = 6.00733e+12, step = 8801 (0.215 sec)\n",
      "INFO:tensorflow:global_step/sec: 451.559\n",
      "INFO:tensorflow:loss = 5.38208e+12, step = 8901 (0.221 sec)\n",
      "INFO:tensorflow:global_step/sec: 474.87\n",
      "INFO:tensorflow:loss = 6.58879e+12, step = 9001 (0.211 sec)\n",
      "INFO:tensorflow:global_step/sec: 463.572\n",
      "INFO:tensorflow:loss = 4.68564e+12, step = 9101 (0.215 sec)\n",
      "INFO:tensorflow:global_step/sec: 475.948\n",
      "INFO:tensorflow:loss = 5.45311e+12, step = 9201 (0.210 sec)\n",
      "INFO:tensorflow:global_step/sec: 491.854\n",
      "INFO:tensorflow:loss = 5.38962e+12, step = 9301 (0.203 sec)\n",
      "INFO:tensorflow:global_step/sec: 475.078\n",
      "INFO:tensorflow:loss = 7.05421e+12, step = 9401 (0.210 sec)\n",
      "INFO:tensorflow:global_step/sec: 435.872\n",
      "INFO:tensorflow:loss = 6.25386e+12, step = 9501 (0.229 sec)\n",
      "INFO:tensorflow:global_step/sec: 503.88\n",
      "INFO:tensorflow:loss = 5.90193e+12, step = 9601 (0.198 sec)\n",
      "INFO:tensorflow:global_step/sec: 462.118\n",
      "INFO:tensorflow:loss = 6.63451e+12, step = 9701 (0.217 sec)\n",
      "INFO:tensorflow:global_step/sec: 432.053\n",
      "INFO:tensorflow:loss = 4.84824e+12, step = 9801 (0.231 sec)\n",
      "INFO:tensorflow:global_step/sec: 714.127\n",
      "INFO:tensorflow:loss = 6.1342e+12, step = 9901 (0.141 sec)\n",
      "INFO:tensorflow:global_step/sec: 577.333\n",
      "INFO:tensorflow:loss = 5.88657e+12, step = 10001 (0.173 sec)\n",
      "INFO:tensorflow:global_step/sec: 586.958\n",
      "INFO:tensorflow:loss = 5.67186e+12, step = 10101 (0.170 sec)\n",
      "INFO:tensorflow:global_step/sec: 489.327\n",
      "INFO:tensorflow:loss = 5.17084e+12, step = 10201 (0.203 sec)\n",
      "INFO:tensorflow:global_step/sec: 481.585\n",
      "INFO:tensorflow:loss = 7.12197e+12, step = 10301 (0.208 sec)\n",
      "INFO:tensorflow:global_step/sec: 500.012\n",
      "INFO:tensorflow:loss = 4.57479e+12, step = 10401 (0.200 sec)\n",
      "INFO:tensorflow:global_step/sec: 496.223\n",
      "INFO:tensorflow:loss = 4.88287e+12, step = 10501 (0.202 sec)\n",
      "INFO:tensorflow:global_step/sec: 487.021\n",
      "INFO:tensorflow:loss = 5.68027e+12, step = 10601 (0.205 sec)\n",
      "INFO:tensorflow:global_step/sec: 463.925\n",
      "INFO:tensorflow:loss = 6.37184e+12, step = 10701 (0.216 sec)\n",
      "INFO:tensorflow:global_step/sec: 453.618\n",
      "INFO:tensorflow:loss = 6.03643e+12, step = 10801 (0.221 sec)\n",
      "INFO:tensorflow:global_step/sec: 352.806\n",
      "INFO:tensorflow:loss = 5.40152e+12, step = 10901 (0.283 sec)\n",
      "INFO:tensorflow:global_step/sec: 333.17\n",
      "INFO:tensorflow:loss = 7.17959e+12, step = 11001 (0.300 sec)\n",
      "INFO:tensorflow:global_step/sec: 349.555\n",
      "INFO:tensorflow:loss = 5.09759e+12, step = 11101 (0.288 sec)\n",
      "INFO:tensorflow:global_step/sec: 471.554\n",
      "INFO:tensorflow:loss = 5.90795e+12, step = 11201 (0.212 sec)\n",
      "INFO:tensorflow:global_step/sec: 448.353\n",
      "INFO:tensorflow:loss = 6.0573e+12, step = 11301 (0.221 sec)\n",
      "INFO:tensorflow:global_step/sec: 446.099\n",
      "INFO:tensorflow:loss = 5.07363e+12, step = 11401 (0.224 sec)\n",
      "INFO:tensorflow:global_step/sec: 412.532\n",
      "INFO:tensorflow:loss = 4.90536e+12, step = 11501 (0.242 sec)\n",
      "INFO:tensorflow:global_step/sec: 343.016\n",
      "INFO:tensorflow:loss = 6.93658e+12, step = 11601 (0.292 sec)\n",
      "INFO:tensorflow:global_step/sec: 438.548\n",
      "INFO:tensorflow:loss = 4.67579e+12, step = 11701 (0.228 sec)\n",
      "INFO:tensorflow:global_step/sec: 459.925\n",
      "INFO:tensorflow:loss = 5.40396e+12, step = 11801 (0.217 sec)\n",
      "INFO:tensorflow:global_step/sec: 363.901\n",
      "INFO:tensorflow:loss = 5.4274e+12, step = 11901 (0.275 sec)\n",
      "INFO:tensorflow:global_step/sec: 437.696\n",
      "INFO:tensorflow:loss = 5.75306e+12, step = 12001 (0.229 sec)\n",
      "INFO:tensorflow:global_step/sec: 463.472\n",
      "INFO:tensorflow:loss = 6.09265e+12, step = 12101 (0.216 sec)\n",
      "INFO:tensorflow:global_step/sec: 444.733\n",
      "INFO:tensorflow:loss = 5.32007e+12, step = 12201 (0.225 sec)\n",
      "INFO:tensorflow:global_step/sec: 408.567\n",
      "INFO:tensorflow:loss = 7.00875e+12, step = 12301 (0.245 sec)\n",
      "INFO:tensorflow:global_step/sec: 429.017\n",
      "INFO:tensorflow:loss = 5.56536e+12, step = 12401 (0.233 sec)\n",
      "INFO:tensorflow:global_step/sec: 482.142\n",
      "INFO:tensorflow:loss = 5.61415e+12, step = 12501 (0.207 sec)\n",
      "INFO:tensorflow:global_step/sec: 481.735\n",
      "INFO:tensorflow:loss = 6.08058e+12, step = 12601 (0.208 sec)\n",
      "INFO:tensorflow:global_step/sec: 423.336\n",
      "INFO:tensorflow:loss = 4.76497e+12, step = 12701 (0.236 sec)\n",
      "INFO:tensorflow:global_step/sec: 478.236\n",
      "INFO:tensorflow:loss = 4.79354e+12, step = 12801 (0.209 sec)\n",
      "INFO:tensorflow:global_step/sec: 488.021\n",
      "INFO:tensorflow:loss = 6.58869e+12, step = 12901 (0.205 sec)\n",
      "INFO:tensorflow:global_step/sec: 491.082\n",
      "INFO:tensorflow:loss = 5.19437e+12, step = 13001 (0.204 sec)\n",
      "INFO:tensorflow:global_step/sec: 481.429\n",
      "INFO:tensorflow:loss = 5.69208e+12, step = 13101 (0.207 sec)\n",
      "INFO:tensorflow:global_step/sec: 494.174\n",
      "INFO:tensorflow:loss = 5.4165e+12, step = 13201 (0.202 sec)\n",
      "INFO:tensorflow:global_step/sec: 471.785\n",
      "INFO:tensorflow:loss = 5.76208e+12, step = 13301 (0.212 sec)\n",
      "INFO:tensorflow:global_step/sec: 489.999\n",
      "INFO:tensorflow:loss = 6.32208e+12, step = 13401 (0.204 sec)\n",
      "INFO:tensorflow:global_step/sec: 492.793\n",
      "INFO:tensorflow:loss = 5.82955e+12, step = 13501 (0.203 sec)\n",
      "INFO:tensorflow:global_step/sec: 476.865\n",
      "INFO:tensorflow:loss = 6.80386e+12, step = 13601 (0.209 sec)\n",
      "INFO:tensorflow:global_step/sec: 483.096\n",
      "INFO:tensorflow:loss = 5.62148e+12, step = 13701 (0.207 sec)\n",
      "INFO:tensorflow:global_step/sec: 463.448\n",
      "INFO:tensorflow:loss = 6.07294e+12, step = 13801 (0.216 sec)\n",
      "INFO:tensorflow:global_step/sec: 489.853\n",
      "INFO:tensorflow:loss = 5.67449e+12, step = 13901 (0.204 sec)\n",
      "INFO:tensorflow:global_step/sec: 485.639\n",
      "INFO:tensorflow:loss = 4.57881e+12, step = 14001 (0.206 sec)\n",
      "INFO:tensorflow:global_step/sec: 447.309\n",
      "INFO:tensorflow:loss = 5.41091e+12, step = 14101 (0.223 sec)\n",
      "INFO:tensorflow:global_step/sec: 486.095\n",
      "INFO:tensorflow:loss = 5.70159e+12, step = 14201 (0.206 sec)\n",
      "INFO:tensorflow:global_step/sec: 467.495\n",
      "INFO:tensorflow:loss = 5.37805e+12, step = 14301 (0.214 sec)\n",
      "INFO:tensorflow:global_step/sec: 486.194\n",
      "INFO:tensorflow:loss = 5.90325e+12, step = 14401 (0.206 sec)\n",
      "INFO:tensorflow:Saving checkpoints for 14447 into /var/folders/tx/ftbzjwns6fgg8d6cvfwrz6k40000gn/T/tmp8008miw0/model.ckpt.\n",
      "INFO:tensorflow:Loss for final step: 5.70454e+12.\n"
     ]
    }
   ],
   "source": [
    "train_metrics = estimator.train(input_fn=input_train)"
   ]
  },
  {
   "cell_type": "code",
   "execution_count": 53,
   "metadata": {
    "collapsed": true
   },
   "outputs": [],
   "source": [
    "eval_input_fn = tf.estimator.inputs.pandas_input_fn(x=x_test, y=y_test, batch_size=100, num_epochs=100, shuffle=False)"
   ]
  },
  {
   "cell_type": "code",
   "execution_count": 54,
   "metadata": {},
   "outputs": [
    {
     "name": "stdout",
     "output_type": "stream",
     "text": [
      "INFO:tensorflow:Starting evaluation at 2018-01-02-10:17:35\n",
      "INFO:tensorflow:Restoring parameters from /var/folders/tx/ftbzjwns6fgg8d6cvfwrz6k40000gn/T/tmp8008miw0/model.ckpt-14447\n",
      "INFO:tensorflow:Finished evaluation at 2018-01-02-10:17:43\n",
      "INFO:tensorflow:Saving dict for global step 14447: average_loss = 5.69972e+10, global_step = 14447, loss = 5.69972e+12\n"
     ]
    }
   ],
   "source": [
    "results = estimator.evaluate(eval_input_fn)"
   ]
  },
  {
   "cell_type": "code",
   "execution_count": 56,
   "metadata": {},
   "outputs": [
    {
     "name": "stdout",
     "output_type": "stream",
     "text": [
      "{'average_loss': 5.6997224e+10, 'loss': 5.6997225e+12, 'global_step': 14447}\n"
     ]
    }
   ],
   "source": [
    "print(results)"
   ]
  },
  {
   "cell_type": "markdown",
   "metadata": {},
   "source": [
    "# Plot the test data"
   ]
  },
  {
   "cell_type": "code",
   "execution_count": 83,
   "metadata": {
    "collapsed": true
   },
   "outputs": [],
   "source": [
    "pred_input_fn = tf.estimator.inputs.pandas_input_fn(x=x_test, batch_size=100,shuffle=False)"
   ]
  },
  {
   "cell_type": "code",
   "execution_count": 84,
   "metadata": {
    "collapsed": true
   },
   "outputs": [],
   "source": [
    "pred = estimator.predict(pred_input_fn)"
   ]
  },
  {
   "cell_type": "code",
   "execution_count": 85,
   "metadata": {},
   "outputs": [
    {
     "name": "stdout",
     "output_type": "stream",
     "text": [
      "INFO:tensorflow:Restoring parameters from /var/folders/tx/ftbzjwns6fgg8d6cvfwrz6k40000gn/T/tmp8008miw0/model.ckpt-14447\n"
     ]
    }
   ],
   "source": [
    "predictions = [i['predictions'][0] for i in list(pred)]"
   ]
  },
  {
   "cell_type": "code",
   "execution_count": 86,
   "metadata": {},
   "outputs": [
    {
     "data": {
      "image/png": "[encoded data removed]",
      "text/plain": [
       "<matplotlib.figure.Figure at 0x129665128>"
      ]
     },
     "metadata": {},
     "output_type": "display_data"
    }
   ],
   "source": [
    "plt.plot(x_test.iloc[:,0].values,predictions,'r*')\n",
    "plt.show()"
   ]
  },
  {
   "cell_type": "code",
   "execution_count": 82,
   "metadata": {},
   "outputs": [
    {
     "data": {
      "text/plain": [
       "619300"
      ]
     },
     "execution_count": 82,
     "metadata": {},
     "output_type": "execute_result"
    }
   ],
   "source": [
    "len(predictions)"
   ]
  },
  {
   "cell_type": "markdown",
   "metadata": {
    "collapsed": true
   },
   "source": [
    "# Using DNN"
   ]
  },
  {
   "cell_type": "code",
   "execution_count": 89,
   "metadata": {},
   "outputs": [
    {
     "name": "stdout",
     "output_type": "stream",
     "text": [
      "INFO:tensorflow:Using default config.\n",
      "WARNING:tensorflow:Using temporary folder as model directory: /var/folders/tx/ftbzjwns6fgg8d6cvfwrz6k40000gn/T/tmpdzw1q7ph\n",
      "INFO:tensorflow:Using config: {'_model_dir': '/var/folders/tx/ftbzjwns6fgg8d6cvfwrz6k40000gn/T/tmpdzw1q7ph', '_tf_random_seed': 1, '_save_summary_steps': 100, '_save_checkpoints_secs': 600, '_save_checkpoints_steps': None, '_session_config': None, '_keep_checkpoint_max': 5, '_keep_checkpoint_every_n_hours': 10000, '_log_step_count_steps': 100}\n"
     ]
    }
   ],
   "source": [
    "layers = len(x_cols)\n",
    "estimator = tf.estimator.DNNRegressor(hidden_units=[layers,layers,layers], feature_columns=feat_cols)"
   ]
  },
  {
   "cell_type": "code",
   "execution_count": 91,
   "metadata": {},
   "outputs": [
    {
     "name": "stdout",
     "output_type": "stream",
     "text": [
      "INFO:tensorflow:Create CheckpointSaverHook.\n",
      "INFO:tensorflow:Saving checkpoints for 1 into /var/folders/tx/ftbzjwns6fgg8d6cvfwrz6k40000gn/T/tmpdzw1q7ph/model.ckpt.\n",
      "INFO:tensorflow:loss = 5.49695e+12, step = 1\n",
      "INFO:tensorflow:global_step/sec: 421.21\n",
      "INFO:tensorflow:loss = 5.17648e+12, step = 101 (0.243 sec)\n",
      "INFO:tensorflow:global_step/sec: 456.561\n",
      "INFO:tensorflow:loss = 5.22664e+12, step = 201 (0.213 sec)\n",
      "INFO:tensorflow:global_step/sec: 437.658\n",
      "INFO:tensorflow:loss = 5.26181e+12, step = 301 (0.230 sec)\n",
      "INFO:tensorflow:global_step/sec: 479.039\n",
      "INFO:tensorflow:loss = 6.45146e+12, step = 401 (0.208 sec)\n",
      "INFO:tensorflow:global_step/sec: 355.216\n",
      "INFO:tensorflow:loss = 5.00481e+12, step = 501 (0.282 sec)\n",
      "INFO:tensorflow:global_step/sec: 415.292\n",
      "INFO:tensorflow:loss = 4.8103e+12, step = 601 (0.240 sec)\n",
      "INFO:tensorflow:global_step/sec: 532.24\n",
      "INFO:tensorflow:loss = 4.35476e+12, step = 701 (0.189 sec)\n",
      "INFO:tensorflow:global_step/sec: 383.601\n",
      "INFO:tensorflow:loss = 3.96132e+12, step = 801 (0.260 sec)\n",
      "INFO:tensorflow:global_step/sec: 424.376\n",
      "INFO:tensorflow:loss = 2.86818e+12, step = 901 (0.235 sec)\n",
      "INFO:tensorflow:global_step/sec: 436.861\n",
      "INFO:tensorflow:loss = 2.93644e+12, step = 1001 (0.231 sec)\n",
      "INFO:tensorflow:global_step/sec: 551.505\n",
      "INFO:tensorflow:loss = 2.85434e+12, step = 1101 (0.181 sec)\n",
      "INFO:tensorflow:global_step/sec: 463.736\n",
      "INFO:tensorflow:loss = 2.44738e+12, step = 1201 (0.214 sec)\n",
      "INFO:tensorflow:global_step/sec: 453.704\n",
      "INFO:tensorflow:loss = 2.50086e+12, step = 1301 (0.220 sec)\n",
      "INFO:tensorflow:global_step/sec: 400.872\n",
      "INFO:tensorflow:loss = 1.90107e+12, step = 1401 (0.250 sec)\n",
      "INFO:tensorflow:global_step/sec: 432.571\n",
      "INFO:tensorflow:loss = 1.60014e+12, step = 1501 (0.231 sec)\n",
      "INFO:tensorflow:global_step/sec: 425.771\n",
      "INFO:tensorflow:loss = 1.52164e+12, step = 1601 (0.235 sec)\n",
      "INFO:tensorflow:global_step/sec: 420.748\n",
      "INFO:tensorflow:loss = 1.86887e+12, step = 1701 (0.238 sec)\n",
      "INFO:tensorflow:global_step/sec: 371.7\n",
      "INFO:tensorflow:loss = 1.45671e+12, step = 1801 (0.270 sec)\n",
      "INFO:tensorflow:global_step/sec: 423.756\n",
      "INFO:tensorflow:loss = 1.52909e+12, step = 1901 (0.235 sec)\n",
      "INFO:tensorflow:global_step/sec: 444.288\n",
      "INFO:tensorflow:loss = 1.43576e+12, step = 2001 (0.225 sec)\n",
      "INFO:tensorflow:global_step/sec: 403.291\n",
      "INFO:tensorflow:loss = 1.17972e+12, step = 2101 (0.248 sec)\n",
      "INFO:tensorflow:global_step/sec: 418.709\n",
      "INFO:tensorflow:loss = 1.07841e+12, step = 2201 (0.239 sec)\n",
      "INFO:tensorflow:global_step/sec: 619.755\n",
      "INFO:tensorflow:loss = 1.35244e+12, step = 2301 (0.162 sec)\n",
      "INFO:tensorflow:global_step/sec: 433.627\n",
      "INFO:tensorflow:loss = 1.28142e+12, step = 2401 (0.230 sec)\n",
      "INFO:tensorflow:global_step/sec: 441.312\n",
      "INFO:tensorflow:loss = 1.2725e+12, step = 2501 (0.227 sec)\n",
      "INFO:tensorflow:global_step/sec: 430.96\n",
      "INFO:tensorflow:loss = 1.25635e+12, step = 2601 (0.232 sec)\n",
      "INFO:tensorflow:global_step/sec: 411.23\n",
      "INFO:tensorflow:loss = 1.02717e+12, step = 2701 (0.243 sec)\n",
      "INFO:tensorflow:global_step/sec: 455.046\n",
      "INFO:tensorflow:loss = 1.1277e+12, step = 2801 (0.220 sec)\n",
      "INFO:tensorflow:global_step/sec: 445.824\n",
      "INFO:tensorflow:loss = 1.01525e+12, step = 2901 (0.224 sec)\n",
      "INFO:tensorflow:global_step/sec: 447.107\n",
      "INFO:tensorflow:loss = 1.12113e+12, step = 3001 (0.223 sec)\n",
      "INFO:tensorflow:global_step/sec: 474.343\n",
      "INFO:tensorflow:loss = 9.72919e+11, step = 3101 (0.211 sec)\n",
      "INFO:tensorflow:global_step/sec: 450.341\n",
      "INFO:tensorflow:loss = 1.20631e+12, step = 3201 (0.222 sec)\n",
      "INFO:tensorflow:global_step/sec: 379.514\n",
      "INFO:tensorflow:loss = 1.19727e+12, step = 3301 (0.264 sec)\n",
      "INFO:tensorflow:global_step/sec: 384.783\n",
      "INFO:tensorflow:loss = 9.55539e+11, step = 3401 (0.260 sec)\n",
      "INFO:tensorflow:global_step/sec: 403.293\n",
      "INFO:tensorflow:loss = 8.98413e+11, step = 3501 (0.248 sec)\n",
      "INFO:tensorflow:global_step/sec: 376.459\n",
      "INFO:tensorflow:loss = 1.23187e+12, step = 3601 (0.265 sec)\n",
      "INFO:tensorflow:global_step/sec: 365.205\n",
      "INFO:tensorflow:loss = 1.2857e+12, step = 3701 (0.276 sec)\n",
      "INFO:tensorflow:global_step/sec: 389.926\n",
      "INFO:tensorflow:loss = 1.31618e+12, step = 3801 (0.255 sec)\n",
      "INFO:tensorflow:global_step/sec: 402.942\n",
      "INFO:tensorflow:loss = 1.05823e+12, step = 3901 (0.248 sec)\n",
      "INFO:tensorflow:global_step/sec: 407.446\n",
      "INFO:tensorflow:loss = 1.04604e+12, step = 4001 (0.245 sec)\n",
      "INFO:tensorflow:global_step/sec: 557.389\n",
      "INFO:tensorflow:loss = 1.33511e+12, step = 4101 (0.180 sec)\n",
      "INFO:tensorflow:global_step/sec: 466.909\n",
      "INFO:tensorflow:loss = 1.10036e+12, step = 4201 (0.213 sec)\n",
      "INFO:tensorflow:global_step/sec: 428.752\n",
      "INFO:tensorflow:loss = 1.08559e+12, step = 4301 (0.234 sec)\n",
      "INFO:tensorflow:global_step/sec: 438.399\n",
      "INFO:tensorflow:loss = 8.08698e+11, step = 4401 (0.228 sec)\n",
      "INFO:tensorflow:global_step/sec: 422.166\n",
      "INFO:tensorflow:loss = 9.55604e+11, step = 4501 (0.238 sec)\n",
      "INFO:tensorflow:global_step/sec: 421.665\n",
      "INFO:tensorflow:loss = 1.16296e+12, step = 4601 (0.238 sec)\n",
      "INFO:tensorflow:global_step/sec: 439.119\n",
      "INFO:tensorflow:loss = 1.09255e+12, step = 4701 (0.226 sec)\n",
      "INFO:tensorflow:global_step/sec: 439.786\n",
      "INFO:tensorflow:loss = 8.11133e+11, step = 4801 (0.227 sec)\n",
      "INFO:tensorflow:global_step/sec: 387.905\n",
      "INFO:tensorflow:loss = 1.00196e+12, step = 4901 (0.257 sec)\n",
      "INFO:tensorflow:global_step/sec: 549.209\n",
      "INFO:tensorflow:loss = 1.13397e+12, step = 5001 (0.184 sec)\n",
      "INFO:tensorflow:global_step/sec: 440.678\n",
      "INFO:tensorflow:loss = 1.44927e+12, step = 5101 (0.226 sec)\n",
      "INFO:tensorflow:global_step/sec: 416.355\n",
      "INFO:tensorflow:loss = 1.15852e+12, step = 5201 (0.240 sec)\n",
      "INFO:tensorflow:global_step/sec: 496.717\n",
      "INFO:tensorflow:loss = 9.36062e+11, step = 5301 (0.202 sec)\n",
      "INFO:tensorflow:global_step/sec: 456.254\n",
      "INFO:tensorflow:loss = 1.18728e+12, step = 5401 (0.219 sec)\n",
      "INFO:tensorflow:global_step/sec: 475.201\n",
      "INFO:tensorflow:loss = 1.33357e+12, step = 5501 (0.210 sec)\n",
      "INFO:tensorflow:global_step/sec: 633.875\n",
      "INFO:tensorflow:loss = 9.25331e+11, step = 5601 (0.159 sec)\n",
      "INFO:tensorflow:global_step/sec: 480.483\n",
      "INFO:tensorflow:loss = 9.81479e+11, step = 5701 (0.207 sec)\n",
      "INFO:tensorflow:global_step/sec: 476.769\n",
      "INFO:tensorflow:loss = 1.01389e+12, step = 5801 (0.210 sec)\n",
      "INFO:tensorflow:global_step/sec: 488.26\n",
      "INFO:tensorflow:loss = 1.08921e+12, step = 5901 (0.205 sec)\n",
      "INFO:tensorflow:global_step/sec: 462.022\n",
      "INFO:tensorflow:loss = 1.03018e+12, step = 6001 (0.216 sec)\n",
      "INFO:tensorflow:global_step/sec: 493.238\n",
      "INFO:tensorflow:loss = 7.38854e+11, step = 6101 (0.203 sec)\n",
      "INFO:tensorflow:global_step/sec: 481.892\n",
      "INFO:tensorflow:loss = 1.06368e+12, step = 6201 (0.208 sec)\n",
      "INFO:tensorflow:global_step/sec: 451.573\n",
      "INFO:tensorflow:loss = 1.09948e+12, step = 6301 (0.222 sec)\n",
      "INFO:tensorflow:global_step/sec: 482.379\n",
      "INFO:tensorflow:loss = 1.17003e+12, step = 6401 (0.207 sec)\n",
      "INFO:tensorflow:global_step/sec: 462.776\n",
      "INFO:tensorflow:loss = 9.52275e+11, step = 6501 (0.217 sec)\n",
      "INFO:tensorflow:global_step/sec: 489.587\n",
      "INFO:tensorflow:loss = 9.07137e+11, step = 6601 (0.204 sec)\n",
      "INFO:tensorflow:global_step/sec: 481.552\n",
      "INFO:tensorflow:loss = 1.24549e+12, step = 6701 (0.208 sec)\n",
      "INFO:tensorflow:global_step/sec: 539.313\n",
      "INFO:tensorflow:loss = 1.37867e+12, step = 6801 (0.185 sec)\n",
      "INFO:tensorflow:global_step/sec: 455.141\n",
      "INFO:tensorflow:loss = 9.81881e+11, step = 6901 (0.219 sec)\n",
      "INFO:tensorflow:global_step/sec: 449.315\n",
      "INFO:tensorflow:loss = 9.05847e+11, step = 7001 (0.223 sec)\n",
      "INFO:tensorflow:global_step/sec: 646.196\n",
      "INFO:tensorflow:loss = 9.60789e+11, step = 7101 (0.155 sec)\n",
      "INFO:tensorflow:global_step/sec: 544.935\n",
      "INFO:tensorflow:loss = 1.04749e+12, step = 7201 (0.184 sec)\n",
      "INFO:tensorflow:global_step/sec: 442.959\n",
      "INFO:tensorflow:loss = 9.33338e+11, step = 7301 (0.225 sec)\n",
      "INFO:tensorflow:global_step/sec: 477.183\n",
      "INFO:tensorflow:loss = 9.84016e+11, step = 7401 (0.211 sec)\n",
      "INFO:tensorflow:global_step/sec: 492.332\n",
      "INFO:tensorflow:loss = 1.16452e+12, step = 7501 (0.203 sec)\n",
      "INFO:tensorflow:global_step/sec: 629.633\n",
      "INFO:tensorflow:loss = 1.12553e+12, step = 7601 (0.158 sec)\n",
      "INFO:tensorflow:global_step/sec: 428.302\n",
      "INFO:tensorflow:loss = 1.23163e+12, step = 7701 (0.233 sec)\n",
      "INFO:tensorflow:global_step/sec: 401.814\n",
      "INFO:tensorflow:loss = 8.1695e+11, step = 7801 (0.248 sec)\n",
      "INFO:tensorflow:global_step/sec: 483.941\n",
      "INFO:tensorflow:loss = 8.98925e+11, step = 7901 (0.207 sec)\n",
      "INFO:tensorflow:global_step/sec: 489.812\n"
     ]
    },
    {
     "name": "stdout",
     "output_type": "stream",
     "text": [
      "INFO:tensorflow:loss = 1.18011e+12, step = 8001 (0.204 sec)\n",
      "INFO:tensorflow:global_step/sec: 442.603\n",
      "INFO:tensorflow:loss = 1.21511e+12, step = 8101 (0.226 sec)\n",
      "INFO:tensorflow:global_step/sec: 671.849\n",
      "INFO:tensorflow:loss = 1.00772e+12, step = 8201 (0.150 sec)\n",
      "INFO:tensorflow:global_step/sec: 486.997\n",
      "INFO:tensorflow:loss = 9.69086e+11, step = 8301 (0.205 sec)\n",
      "INFO:tensorflow:global_step/sec: 483.197\n",
      "INFO:tensorflow:loss = 9.12187e+11, step = 8401 (0.207 sec)\n",
      "INFO:tensorflow:global_step/sec: 501.711\n",
      "INFO:tensorflow:loss = 1.15517e+12, step = 8501 (0.199 sec)\n",
      "INFO:tensorflow:global_step/sec: 463.52\n",
      "INFO:tensorflow:loss = 1.01806e+12, step = 8601 (0.216 sec)\n",
      "INFO:tensorflow:global_step/sec: 507.878\n",
      "INFO:tensorflow:loss = 8.78022e+11, step = 8701 (0.197 sec)\n",
      "INFO:tensorflow:global_step/sec: 495.473\n",
      "INFO:tensorflow:loss = 1.2424e+12, step = 8801 (0.202 sec)\n",
      "INFO:tensorflow:global_step/sec: 640.488\n",
      "INFO:tensorflow:loss = 9.04307e+11, step = 8901 (0.157 sec)\n",
      "INFO:tensorflow:global_step/sec: 501.271\n",
      "INFO:tensorflow:loss = 1.26653e+12, step = 9001 (0.199 sec)\n",
      "INFO:tensorflow:global_step/sec: 496.652\n",
      "INFO:tensorflow:loss = 7.51815e+11, step = 9101 (0.201 sec)\n",
      "INFO:tensorflow:global_step/sec: 470.836\n",
      "INFO:tensorflow:loss = 9.29226e+11, step = 9201 (0.213 sec)\n",
      "INFO:tensorflow:global_step/sec: 487.055\n",
      "INFO:tensorflow:loss = 9.02416e+11, step = 9301 (0.205 sec)\n",
      "INFO:tensorflow:global_step/sec: 448.958\n",
      "INFO:tensorflow:loss = 1.32998e+12, step = 9401 (0.223 sec)\n",
      "INFO:tensorflow:global_step/sec: 494.298\n",
      "INFO:tensorflow:loss = 1.00041e+12, step = 9501 (0.202 sec)\n",
      "INFO:tensorflow:global_step/sec: 502.112\n",
      "INFO:tensorflow:loss = 1.05166e+12, step = 9601 (0.199 sec)\n",
      "INFO:tensorflow:global_step/sec: 468.081\n",
      "INFO:tensorflow:loss = 1.20867e+12, step = 9701 (0.214 sec)\n",
      "INFO:tensorflow:global_step/sec: 502.879\n",
      "INFO:tensorflow:loss = 1.04755e+12, step = 9801 (0.199 sec)\n",
      "INFO:tensorflow:global_step/sec: 470.1\n",
      "INFO:tensorflow:loss = 9.7267e+11, step = 9901 (0.213 sec)\n",
      "INFO:tensorflow:global_step/sec: 462.766\n",
      "INFO:tensorflow:loss = 9.1834e+11, step = 10001 (0.216 sec)\n",
      "INFO:tensorflow:global_step/sec: 498.983\n",
      "INFO:tensorflow:loss = 1.13928e+12, step = 10101 (0.201 sec)\n",
      "INFO:tensorflow:global_step/sec: 466.222\n",
      "INFO:tensorflow:loss = 8.67542e+11, step = 10201 (0.214 sec)\n",
      "INFO:tensorflow:global_step/sec: 497.508\n",
      "INFO:tensorflow:loss = 1.29483e+12, step = 10301 (0.201 sec)\n",
      "INFO:tensorflow:global_step/sec: 477.65\n",
      "INFO:tensorflow:loss = 7.01972e+11, step = 10401 (0.211 sec)\n",
      "INFO:tensorflow:global_step/sec: 488.683\n",
      "INFO:tensorflow:loss = 9.02414e+11, step = 10501 (0.203 sec)\n",
      "INFO:tensorflow:global_step/sec: 499.346\n",
      "INFO:tensorflow:loss = 9.62394e+11, step = 10601 (0.200 sec)\n",
      "INFO:tensorflow:global_step/sec: 467.933\n",
      "INFO:tensorflow:loss = 1.27376e+12, step = 10701 (0.213 sec)\n",
      "INFO:tensorflow:global_step/sec: 521.043\n",
      "INFO:tensorflow:loss = 9.5705e+11, step = 10801 (0.193 sec)\n",
      "INFO:tensorflow:global_step/sec: 566.79\n",
      "INFO:tensorflow:loss = 9.00042e+11, step = 10901 (0.176 sec)\n",
      "INFO:tensorflow:global_step/sec: 547.54\n",
      "INFO:tensorflow:loss = 1.2705e+12, step = 11001 (0.183 sec)\n",
      "INFO:tensorflow:global_step/sec: 455.679\n",
      "INFO:tensorflow:loss = 1.00185e+12, step = 11101 (0.219 sec)\n",
      "INFO:tensorflow:global_step/sec: 459.673\n",
      "INFO:tensorflow:loss = 9.75936e+11, step = 11201 (0.218 sec)\n",
      "INFO:tensorflow:global_step/sec: 495.501\n",
      "INFO:tensorflow:loss = 9.97948e+11, step = 11301 (0.202 sec)\n",
      "INFO:tensorflow:global_step/sec: 652.031\n",
      "INFO:tensorflow:loss = 1.05391e+12, step = 11401 (0.154 sec)\n",
      "INFO:tensorflow:global_step/sec: 496.665\n",
      "INFO:tensorflow:loss = 8.52044e+11, step = 11501 (0.200 sec)\n",
      "INFO:tensorflow:global_step/sec: 458.849\n",
      "INFO:tensorflow:loss = 1.28296e+12, step = 11601 (0.219 sec)\n",
      "INFO:tensorflow:global_step/sec: 436.587\n",
      "INFO:tensorflow:loss = 6.81699e+11, step = 11701 (0.229 sec)\n",
      "INFO:tensorflow:global_step/sec: 433.704\n",
      "INFO:tensorflow:loss = 9.67876e+11, step = 11801 (0.230 sec)\n",
      "INFO:tensorflow:global_step/sec: 465.411\n",
      "INFO:tensorflow:loss = 9.20229e+11, step = 11901 (0.215 sec)\n",
      "INFO:tensorflow:global_step/sec: 457.18\n",
      "INFO:tensorflow:loss = 1.00593e+12, step = 12001 (0.219 sec)\n",
      "INFO:tensorflow:global_step/sec: 440.875\n",
      "INFO:tensorflow:loss = 9.37273e+11, step = 12101 (0.227 sec)\n",
      "INFO:tensorflow:global_step/sec: 451.92\n",
      "INFO:tensorflow:loss = 7.76344e+11, step = 12201 (0.222 sec)\n",
      "INFO:tensorflow:global_step/sec: 457.183\n",
      "INFO:tensorflow:loss = 1.44714e+12, step = 12301 (0.218 sec)\n",
      "INFO:tensorflow:global_step/sec: 457.63\n",
      "INFO:tensorflow:loss = 8.62553e+11, step = 12401 (0.219 sec)\n",
      "INFO:tensorflow:global_step/sec: 552.654\n",
      "INFO:tensorflow:loss = 8.76683e+11, step = 12501 (0.182 sec)\n",
      "INFO:tensorflow:global_step/sec: 493.211\n",
      "INFO:tensorflow:loss = 9.21467e+11, step = 12601 (0.202 sec)\n",
      "INFO:tensorflow:global_step/sec: 458.754\n",
      "INFO:tensorflow:loss = 8.51208e+11, step = 12701 (0.218 sec)\n",
      "INFO:tensorflow:global_step/sec: 494.746\n",
      "INFO:tensorflow:loss = 8.62282e+11, step = 12801 (0.202 sec)\n",
      "INFO:tensorflow:global_step/sec: 464.693\n",
      "INFO:tensorflow:loss = 1.18373e+12, step = 12901 (0.215 sec)\n",
      "INFO:tensorflow:global_step/sec: 496.361\n",
      "INFO:tensorflow:loss = 7.63961e+11, step = 13001 (0.202 sec)\n",
      "INFO:tensorflow:global_step/sec: 484.663\n",
      "INFO:tensorflow:loss = 8.74804e+11, step = 13101 (0.206 sec)\n",
      "INFO:tensorflow:global_step/sec: 447.873\n",
      "INFO:tensorflow:loss = 8.52939e+11, step = 13201 (0.224 sec)\n",
      "INFO:tensorflow:global_step/sec: 500.563\n",
      "INFO:tensorflow:loss = 1.08295e+12, step = 13301 (0.199 sec)\n",
      "INFO:tensorflow:global_step/sec: 462.034\n",
      "INFO:tensorflow:loss = 9.39566e+11, step = 13401 (0.216 sec)\n",
      "INFO:tensorflow:global_step/sec: 493.747\n",
      "INFO:tensorflow:loss = 9.00763e+11, step = 13501 (0.203 sec)\n",
      "INFO:tensorflow:global_step/sec: 464.932\n",
      "INFO:tensorflow:loss = 1.29907e+12, step = 13601 (0.216 sec)\n",
      "INFO:tensorflow:global_step/sec: 505.224\n",
      "INFO:tensorflow:loss = 7.99003e+11, step = 13701 (0.197 sec)\n",
      "INFO:tensorflow:global_step/sec: 496.537\n",
      "INFO:tensorflow:loss = 8.7756e+11, step = 13801 (0.201 sec)\n",
      "INFO:tensorflow:global_step/sec: 425.071\n",
      "INFO:tensorflow:loss = 8.87274e+11, step = 13901 (0.235 sec)\n",
      "INFO:tensorflow:global_step/sec: 441.111\n",
      "INFO:tensorflow:loss = 7.88361e+11, step = 14001 (0.227 sec)\n",
      "INFO:tensorflow:global_step/sec: 455.564\n",
      "INFO:tensorflow:loss = 9.55134e+11, step = 14101 (0.219 sec)\n",
      "INFO:tensorflow:global_step/sec: 395.807\n",
      "INFO:tensorflow:loss = 1.02627e+12, step = 14201 (0.254 sec)\n",
      "INFO:tensorflow:global_step/sec: 484.879\n",
      "INFO:tensorflow:loss = 8.77538e+11, step = 14301 (0.205 sec)\n",
      "INFO:tensorflow:global_step/sec: 496.428\n",
      "INFO:tensorflow:loss = 9.5697e+11, step = 14401 (0.202 sec)\n",
      "INFO:tensorflow:Saving checkpoints for 14447 into /var/folders/tx/ftbzjwns6fgg8d6cvfwrz6k40000gn/T/tmpdzw1q7ph/model.ckpt.\n",
      "INFO:tensorflow:Loss for final step: 1.07574e+12.\n"
     ]
    }
   ],
   "source": [
    "# Training\n",
    "input_train = tf.estimator.inputs.pandas_input_fn(x=x_train, y=y_train,batch_size=100,num_epochs=100, shuffle=False)\n",
    "train = estimator.train(input_fn=input_train)"
   ]
  },
  {
   "cell_type": "code",
   "execution_count": 92,
   "metadata": {},
   "outputs": [
    {
     "name": "stdout",
     "output_type": "stream",
     "text": [
      "INFO:tensorflow:Starting evaluation at 2018-01-02-23:14:08\n",
      "INFO:tensorflow:Restoring parameters from /var/folders/tx/ftbzjwns6fgg8d6cvfwrz6k40000gn/T/tmpdzw1q7ph/model.ckpt-14447\n",
      "INFO:tensorflow:Finished evaluation at 2018-01-02-23:14:17\n",
      "INFO:tensorflow:Saving dict for global step 14447: average_loss = 9.85055e+09, global_step = 14447, loss = 9.85055e+11\n",
      "{'average_loss': 9.8505533e+09, 'loss': 9.850553e+11, 'global_step': 14447}\n"
     ]
    }
   ],
   "source": [
    "eval_input_fn = tf.estimator.inputs.pandas_input_fn(x=x_test, y=y_test,batch_size=100, num_epochs=100,shuffle=False)\n",
    "results=estimator.evaluate(input_fn=eval_input_fn)\n",
    "print(results)"
   ]
  },
  {
   "cell_type": "code",
   "execution_count": null,
   "metadata": {
    "collapsed": true
   },
   "outputs": [],
   "source": []
  }
 ],
 "metadata": {
  "kernelspec": {
   "display_name": "Python 3",
   "language": "python",
   "name": "python3"
  },
  "language_info": {
   "codemirror_mode": {
    "name": "ipython",
    "version": 3
   },
   "file_extension": ".py",
   "mimetype": "text/x-python",
   "name": "python",
   "nbconvert_exporter": "python",
   "pygments_lexer": "ipython3",
   "version": "3.6.1"
  }
 },
 "nbformat": 4,
 "nbformat_minor": 2
}
